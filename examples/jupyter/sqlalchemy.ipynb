{
 "cells": [
  {
   "cell_type": "code",
   "execution_count": 1,
   "id": "0f2ea09a",
   "metadata": {},
   "outputs": [],
   "source": [
    "from sqlalchemy import create_engine"
   ]
  },
  {
   "cell_type": "code",
   "execution_count": 2,
   "id": "379eb952",
   "metadata": {},
   "outputs": [],
   "source": [
    "connection_string = \"{drivername}+{dbapi}://{user}:{passwd}@{host}:{port}/{db_name}?charset=utf8\".format(\n",
    "     drivername=\"mysql\",\n",
    "     dbapi=\"mysqldb\",\n",
    "     user=\"root\",\n",
    "     passwd=\"my-secret-pw\",\n",
    "     host=\"localhost\",\n",
    "     port=\"3306\",\n",
    "     db_name=\"examples\",\n",
    ")\n",
    "engine = create_engine(connection_string, echo=True, future=True)"
   ]
  },
  {
   "cell_type": "code",
   "execution_count": 3,
   "id": "a4b9e386",
   "metadata": {},
   "outputs": [],
   "source": [
    "from sqlalchemy import Table, Column, ForeignKey, Integer, String, Text, DateTime\n",
    "\n",
    "from sqlalchemy.orm import declarative_base\n",
    "from sqlalchemy.orm import relationship"
   ]
  },
  {
   "cell_type": "code",
   "execution_count": 4,
   "id": "642893b0",
   "metadata": {},
   "outputs": [],
   "source": [
    "Base = declarative_base()"
   ]
  },
  {
   "cell_type": "code",
   "execution_count": 5,
   "id": "432fbedf",
   "metadata": {},
   "outputs": [],
   "source": [
    "quote_tag = Table(\n",
    "    'quote_tag',\n",
    "    Base.metadata,\n",
    "    Column('quote_id', ForeignKey('quote.id'), primary_key=True),\n",
    "    Column('tag_id', ForeignKey('tag.id'), primary_key=True)\n",
    ")"
   ]
  },
  {
   "cell_type": "code",
   "execution_count": 6,
   "id": "7fb82531",
   "metadata": {},
   "outputs": [],
   "source": [
    "class Tag(Base):\n",
    "    __tablename__ = \"tag\"\n",
    "\n",
    "    id = Column(Integer, primary_key=True)\n",
    "    name = Column('name', String(100), unique=True)\n",
    "    quotes = relationship('Quote', secondary=quote_tag, back_populates=\"tags\")  # M-to-M for quote and tag\n",
    "    \n",
    "    def __repr__(self):\n",
    "        return f\"Tag(id={self.id!r}, name={self.name!r})\""
   ]
  },
  {
   "cell_type": "code",
   "execution_count": 7,
   "id": "cafd034c",
   "metadata": {},
   "outputs": [],
   "source": [
    "class Quote(Base):\n",
    "    __tablename__ = \"quote\"\n",
    "\n",
    "    id = Column(Integer, primary_key=True)\n",
    "    text = Column('text', Text())\n",
    "    author_id = Column(Integer, ForeignKey('author.id'))  # Many quotes to one author\n",
    "    author = relationship(\"Author\", back_populates=\"quotes\")\n",
    "    tags = relationship(\"Tag\", secondary=quote_tag, back_populates=\"quotes\")\n",
    "    \n",
    "    def __repr__(self):\n",
    "        return f\"Quote(id={self.id!r}, text={self.text!r})\""
   ]
  },
  {
   "cell_type": "code",
   "execution_count": 8,
   "id": "408e6c98",
   "metadata": {},
   "outputs": [],
   "source": [
    "class Author(Base):\n",
    "    __tablename__ = \"author\"\n",
    "    \n",
    "    id = Column(Integer, primary_key=True)\n",
    "    name = Column('name', String(30), unique=True)\n",
    "    birthday = Column('birthday', DateTime)\n",
    "    bornlocation = Column('bornlocation', String(150))\n",
    "    description = Column('description', Text())\n",
    "    quotes = relationship(\"Quote\", back_populates=\"author\", cascade=\"all, delete-orphan\")\n",
    "    \n",
    "    def __repr__(self):\n",
    "        return f\"Author(id={self.id!r}, name={self.name!r}, birthday={self.birthday!r})\""
   ]
  },
  {
   "cell_type": "code",
   "execution_count": 9,
   "id": "2ff23363",
   "metadata": {},
   "outputs": [
    {
     "name": "stdout",
     "output_type": "stream",
     "text": [
      "2022-05-17 18:52:56,199 INFO sqlalchemy.engine.Engine SELECT DATABASE()\n",
      "2022-05-17 18:52:56,201 INFO sqlalchemy.engine.Engine [raw sql] ()\n",
      "2022-05-17 18:52:56,203 INFO sqlalchemy.engine.Engine SELECT @@sql_mode\n",
      "2022-05-17 18:52:56,204 INFO sqlalchemy.engine.Engine [raw sql] ()\n",
      "2022-05-17 18:52:56,205 INFO sqlalchemy.engine.Engine SELECT @@lower_case_table_names\n",
      "2022-05-17 18:52:56,206 INFO sqlalchemy.engine.Engine [raw sql] ()\n",
      "2022-05-17 18:52:56,208 INFO sqlalchemy.engine.Engine BEGIN (implicit)\n",
      "2022-05-17 18:52:56,209 INFO sqlalchemy.engine.Engine SELECT COUNT(*) FROM information_schema.tables WHERE table_schema = %s AND table_name = %s\n",
      "2022-05-17 18:52:56,210 INFO sqlalchemy.engine.Engine [generated in 0.00074s] ('examples', 'quote_tag')\n",
      "2022-05-17 18:52:56,213 INFO sqlalchemy.engine.Engine SELECT COUNT(*) FROM information_schema.tables WHERE table_schema = %s AND table_name = %s\n",
      "2022-05-17 18:52:56,214 INFO sqlalchemy.engine.Engine [cached since 0.004132s ago] ('examples', 'tag')\n",
      "2022-05-17 18:52:56,216 INFO sqlalchemy.engine.Engine SELECT COUNT(*) FROM information_schema.tables WHERE table_schema = %s AND table_name = %s\n",
      "2022-05-17 18:52:56,217 INFO sqlalchemy.engine.Engine [cached since 0.007231s ago] ('examples', 'quote')\n",
      "2022-05-17 18:52:56,219 INFO sqlalchemy.engine.Engine SELECT COUNT(*) FROM information_schema.tables WHERE table_schema = %s AND table_name = %s\n",
      "2022-05-17 18:52:56,220 INFO sqlalchemy.engine.Engine [cached since 0.0105s ago] ('examples', 'author')\n",
      "2022-05-17 18:52:56,222 INFO sqlalchemy.engine.Engine COMMIT\n"
     ]
    }
   ],
   "source": [
    " Base.metadata.create_all(engine)"
   ]
  },
  {
   "cell_type": "code",
   "execution_count": 10,
   "id": "97f99215",
   "metadata": {},
   "outputs": [],
   "source": [
    "from sqlalchemy.orm import Session"
   ]
  },
  {
   "cell_type": "code",
   "execution_count": 11,
   "id": "b5a18cef",
   "metadata": {},
   "outputs": [],
   "source": [
    "session = Session(engine)"
   ]
  },
  {
   "cell_type": "code",
   "execution_count": 12,
   "id": "8d77b383",
   "metadata": {},
   "outputs": [],
   "source": [
    "import dateutil.parser as parser\n",
    "from dateutil.parser import ParserError"
   ]
  },
  {
   "cell_type": "code",
   "execution_count": 13,
   "id": "cb9b3ec5",
   "metadata": {},
   "outputs": [],
   "source": [
    "author = Author(\n",
    "    name='Albert Einstein', \n",
    "    birthday=parser.parse('March 14, 1879'), \n",
    "    bornlocation='Ulm, Germany',\n",
    "    description=\"\"\"\n",
    "        In 1879, Albert Einstein was born in Ulm, Germany. He completed his Ph.D. at the University of Zurich by 1909. His 1905 paper explaining the photoelectric effect, the basis of electronics, earned him the Nobel Prize in 1921. His first paper on Special Relativity Theory, also published in 1905, changed the world. After the rise of the Nazi party, Einstein made Princeton his permanent home, becoming a U.S. citizen in 1940. Einstein, a pacifist during World War I, stayed a firm proponent of social justice and responsibility. He chaired the Emergency Committee of Atomic Scientists, which organized to alert the public to the dangers of atomic warfare.At a symposium, he advised: \"In their struggle for the ethical good, teachers of religion must have the stature to give up the doctrine of a personal God, that is, give up that source of fear and hope which in the past placed such vast power in the hands of priests. In their labors they will have to avail themselves of those forces which are capable of cultivating the Good, the True, and the Beautiful in humanity itself. This is, to be sure a more difficult but an incomparably more worthy task . . . \" (\"Science, Philosophy and Religion, A Symposium,\" published by the Conference on Science, Philosophy and Religion in their Relation to the Democratic Way of Life, Inc., New York, 1941). In a letter to philosopher Eric Gutkind, dated Jan. 3, 1954, Einstein stated: \"The word god is for me nothing more than the expression and product of human weaknesses, the Bible a collection of honorable, but still primitive legends which are nevertheless pretty childish. No interpretation no matter how subtle can (for me) change this,\" (The Guardian, \"Childish superstition: Einstein's letter makes view of religion relatively clear,\" by James Randerson, May 13, 2008). D. 1955.While best known for his mass–energy equivalence formula E = mc2 (which has been dubbed \"the world's most famous equation\"), he received the 1921 Nobel Prize in Physics \"for his services to theoretical physics, and especially for his discovery of the law of the photoelectric effect\". The latter was pivotal in establishing quantum theory.Einstein thought that Newtonion mechanics was no longer enough to reconcile the laws of classical mechanics with the laws of the electromagnetic field. This led to the development of his special theory of relativity. He realized, however, that the principle of relativity could also be extended to gravitational fields, and with his subsequent theory of gravitation in 1916, he published a paper on the general theory of relativity. He continued to deal with problems of statistical mechanics and quantum theory, which led to his explanations of particle theory and the motion of molecules. He also investigated the thermal properties of light which laid the foundation of the photon theory of light.He was visiting the United States when Adolf Hitler came to power in 1933 and did not go back to Germany. On the eve of World War II, he endorsed a letter to President Franklin D. Roosevelt alerting him to the potential development of \"extremely powerful bombs of a new type\" and recommending that the U.S. begin similar research. This eventually led to what would become the Manhattan Project. Einstein supported defending the Allied forces, but largely denounced the idea of using the newly discovered nuclear fission as a weapon. Later, with Bertrand Russell, Einstein signed the Russell–Einstein Manifesto, which highlighted the danger of nuclear weapons. Einstein was affiliated with the Institute for Advanced Study in Princeton, New Jersey, until his death in 1955.His great intellectual achievements and originality have made the word \"Einstein\" synonymous with genius.More: http://en.wikipedia.org/wiki/Albert_E...http://www.nobelprize.org/nobel_prize...    \n",
    "    \"\"\"\n",
    ")"
   ]
  },
  {
   "cell_type": "code",
   "execution_count": 14,
   "id": "55a3fbf0",
   "metadata": {},
   "outputs": [],
   "source": [
    "quote=Quote(text=\"The world as we have created it is a process of our thinking. It cannot be changed without changing our thinking.\", author=author)"
   ]
  },
  {
   "cell_type": "code",
   "execution_count": 15,
   "id": "389c5ffe",
   "metadata": {},
   "outputs": [],
   "source": [
    "tag_change=Tag(name=\"change\")\n",
    "tag_deep_thought=Tag(name=\"deep-thoughts\")\n",
    "tag_thinking=Tag(name=\"thinking\")\n",
    "tag_world=Tag(name=\"world\")"
   ]
  },
  {
   "cell_type": "code",
   "execution_count": 16,
   "id": "cf1faa83",
   "metadata": {},
   "outputs": [],
   "source": [
    "quote.tags.append(tag_change)\n",
    "quote.tags.append(tag_deep_thought)\n",
    "quote.tags.append(tag_thinking)\n",
    "quote.tags.append(tag_world)"
   ]
  },
  {
   "cell_type": "code",
   "execution_count": 17,
   "id": "4d15e326",
   "metadata": {},
   "outputs": [
    {
     "data": {
      "text/plain": [
       "Quote(id=None, text='The world as we have created it is a process of our thinking. It cannot be changed without changing our thinking.')"
      ]
     },
     "execution_count": 17,
     "metadata": {},
     "output_type": "execute_result"
    }
   ],
   "source": [
    "quote"
   ]
  },
  {
   "cell_type": "code",
   "execution_count": 18,
   "id": "c64faa60",
   "metadata": {},
   "outputs": [
    {
     "data": {
      "text/plain": [
       "[Tag(id=None, name='change'),\n",
       " Tag(id=None, name='deep-thoughts'),\n",
       " Tag(id=None, name='thinking'),\n",
       " Tag(id=None, name='world')]"
      ]
     },
     "execution_count": 18,
     "metadata": {},
     "output_type": "execute_result"
    }
   ],
   "source": [
    "quote.tags"
   ]
  },
  {
   "cell_type": "code",
   "execution_count": 19,
   "id": "815d55e3",
   "metadata": {},
   "outputs": [
    {
     "data": {
      "text/plain": [
       "[Quote(id=None, text='The world as we have created it is a process of our thinking. It cannot be changed without changing our thinking.')]"
      ]
     },
     "execution_count": 19,
     "metadata": {},
     "output_type": "execute_result"
    }
   ],
   "source": [
    "tag_deep_thought.quotes"
   ]
  },
  {
   "cell_type": "code",
   "execution_count": 20,
   "id": "064eb26c",
   "metadata": {},
   "outputs": [],
   "source": [
    "session.add(quote)"
   ]
  },
  {
   "cell_type": "code",
   "execution_count": 21,
   "id": "d3733308",
   "metadata": {},
   "outputs": [
    {
     "name": "stdout",
     "output_type": "stream",
     "text": [
      "2022-05-17 18:52:56,476 INFO sqlalchemy.engine.Engine BEGIN (implicit)\n",
      "2022-05-17 18:52:56,477 INFO sqlalchemy.engine.Engine INSERT INTO author (name, birthday, bornlocation, description) VALUES (%s, %s, %s, %s)\n",
      "2022-05-17 18:52:56,478 INFO sqlalchemy.engine.Engine [generated in 0.00078s] ('Albert Einstein', datetime.datetime(1879, 3, 14, 0, 0), 'Ulm, Germany', '\\n        In 1879, Albert Einstein was born in Ulm, Germany. He completed his Ph.D. at the University of Zurich by 1909. His 1905 paper explaining th ... (3554 characters truncated) ... have made the word \"Einstein\" synonymous with genius.More: http://en.wikipedia.org/wiki/Albert_E...http://www.nobelprize.org/nobel_prize...    \\n    ')\n",
      "2022-05-17 18:52:56,482 INFO sqlalchemy.engine.Engine INSERT INTO tag (name) VALUES (%s)\n",
      "2022-05-17 18:52:56,482 INFO sqlalchemy.engine.Engine [generated in 0.00069s] ('change',)\n",
      "2022-05-17 18:52:56,485 INFO sqlalchemy.engine.Engine INSERT INTO tag (name) VALUES (%s)\n",
      "2022-05-17 18:52:56,486 INFO sqlalchemy.engine.Engine [cached since 0.004107s ago] ('deep-thoughts',)\n",
      "2022-05-17 18:52:56,488 INFO sqlalchemy.engine.Engine INSERT INTO tag (name) VALUES (%s)\n",
      "2022-05-17 18:52:56,488 INFO sqlalchemy.engine.Engine [cached since 0.006864s ago] ('thinking',)\n",
      "2022-05-17 18:52:56,491 INFO sqlalchemy.engine.Engine INSERT INTO tag (name) VALUES (%s)\n",
      "2022-05-17 18:52:56,492 INFO sqlalchemy.engine.Engine [cached since 0.01028s ago] ('world',)\n",
      "2022-05-17 18:52:56,494 INFO sqlalchemy.engine.Engine INSERT INTO quote (text, author_id) VALUES (%s, %s)\n",
      "2022-05-17 18:52:56,495 INFO sqlalchemy.engine.Engine [generated in 0.00075s] ('The world as we have created it is a process of our thinking. It cannot be changed without changing our thinking.', 1)\n",
      "2022-05-17 18:52:56,498 INFO sqlalchemy.engine.Engine INSERT INTO quote_tag (quote_id, tag_id) VALUES (%s, %s)\n",
      "2022-05-17 18:52:56,499 INFO sqlalchemy.engine.Engine [generated in 0.00077s] ((1, 1), (1, 2), (1, 3), (1, 4))\n",
      "2022-05-17 18:52:56,503 INFO sqlalchemy.engine.Engine COMMIT\n"
     ]
    }
   ],
   "source": [
    "session.commit()"
   ]
  },
  {
   "cell_type": "code",
   "execution_count": null,
   "id": "aa3b3d64",
   "metadata": {},
   "outputs": [],
   "source": []
  }
 ],
 "metadata": {
  "kernelspec": {
   "display_name": "Python 3 (ipykernel)",
   "language": "python",
   "name": "python3"
  },
  "language_info": {
   "codemirror_mode": {
    "name": "ipython",
    "version": 3
   },
   "file_extension": ".py",
   "mimetype": "text/x-python",
   "name": "python",
   "nbconvert_exporter": "python",
   "pygments_lexer": "ipython3",
   "version": "3.8.10"
  }
 },
 "nbformat": 4,
 "nbformat_minor": 5
}

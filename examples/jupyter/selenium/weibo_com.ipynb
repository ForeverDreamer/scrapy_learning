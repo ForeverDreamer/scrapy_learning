{
 "cells": [
  {
   "cell_type": "code",
   "execution_count": 1,
   "id": "02baa576",
   "metadata": {},
   "outputs": [],
   "source": [
    "import random\n",
    "\n",
    "from selenium.webdriver.chrome.webdriver import WebDriver\n",
    "from selenium.webdriver.common.keys import Keys\n",
    "from selenium.webdriver.common.by import By"
   ]
  },
  {
   "cell_type": "code",
   "execution_count": 2,
   "id": "b748642b",
   "metadata": {},
   "outputs": [],
   "source": [
    "driver = WebDriver()"
   ]
  },
  {
   "cell_type": "code",
   "execution_count": 3,
   "id": "b38f3cc8",
   "metadata": {},
   "outputs": [],
   "source": [
    "# driver.get(\"http://www.baidu.com\")\n",
    "\n",
    "# assert \"百度一下\" in driver.title\n",
    "\n",
    "# from selenium.webdriver.common.by import By\n",
    "\n",
    "# search_box = driver.find_element(by=By.ID, value='kw')\n",
    "\n",
    "# search_box.clear()\n",
    "# search_box.send_keys(\"新浪微博\")\n",
    "# search_box.send_keys(Keys.RETURN)\n",
    "\n",
    "# driver.back()\n",
    "\n",
    "# target = None\n",
    "# for elem in driver.find_elements(by=By.CSS_SELECTOR, value='div > h3 > a'):\n",
    "#     if elem.text == '新浪微博 - 微博广场':\n",
    "#         target = elem\n",
    "#         break\n",
    "# assert target"
   ]
  },
  {
   "cell_type": "code",
   "execution_count": 4,
   "id": "f7aeddfa",
   "metadata": {},
   "outputs": [],
   "source": [
    "driver.get(\"http://weibo.com\")"
   ]
  },
  {
   "cell_type": "code",
   "execution_count": 6,
   "id": "ab608c1f",
   "metadata": {},
   "outputs": [],
   "source": [
    "driver.implicitly_wait(random.randint(5, 10))"
   ]
  },
  {
   "cell_type": "code",
   "execution_count": 12,
   "id": "773b909b",
   "metadata": {},
   "outputs": [],
   "source": [
    "for elem in driver.find_elements(by=By.CSS_SELECTOR, value='div.wbpro-side-panel'):\n",
    "    print(elem)"
   ]
  },
  {
   "cell_type": "code",
   "execution_count": 8,
   "id": "3f95909d",
   "metadata": {},
   "outputs": [],
   "source": [
    "# from selenium.webdriver.common.action_chains import ActionChains"
   ]
  },
  {
   "cell_type": "code",
   "execution_count": 9,
   "id": "f36020a1",
   "metadata": {},
   "outputs": [],
   "source": [
    "# actions = ActionChains(driver)\n",
    "# actions.move_to_element(target)\n",
    "# actions.click(target)\n",
    "# actions.perform()"
   ]
  },
  {
   "cell_type": "code",
   "execution_count": 10,
   "id": "35952028",
   "metadata": {},
   "outputs": [],
   "source": [
    "# driver.quit()"
   ]
  }
 ],
 "metadata": {
  "kernelspec": {
   "display_name": "Python 3 (ipykernel)",
   "language": "python",
   "name": "python3"
  },
  "language_info": {
   "codemirror_mode": {
    "name": "ipython",
    "version": 3
   },
   "file_extension": ".py",
   "mimetype": "text/x-python",
   "name": "python",
   "nbconvert_exporter": "python",
   "pygments_lexer": "ipython3",
   "version": "3.8.10"
  }
 },
 "nbformat": 4,
 "nbformat_minor": 5
}
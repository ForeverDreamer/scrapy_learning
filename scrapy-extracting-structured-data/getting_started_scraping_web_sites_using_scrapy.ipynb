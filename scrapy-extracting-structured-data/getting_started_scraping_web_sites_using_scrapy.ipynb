{
 "cells": [
  {
   "cell_type": "markdown",
   "metadata": {},
   "source": [
    "# 1 Selectors Using CSS Classes"
   ]
  },
  {
   "cell_type": "code",
   "execution_count": 1,
   "metadata": {},
   "outputs": [],
   "source": [
    "from scrapy.selector import Selector\n",
    "from scrapy.http import HtmlResponse\n",
    "import requests"
   ]
  },
  {
   "cell_type": "code",
   "execution_count": 2,
   "metadata": {},
   "outputs": [],
   "source": [
    "REQUEST_HEADER = {\n",
    "    'User-agent': 'Mozilla/5.0 (compatible; MSIE 6.0; Windows NT 5.1; SV1; iCafeMedia; .NET CLR 2.0.50727; CIBA)',\n",
    "    'Connection': 'keep-alive',\n",
    "    'Cache-Control': 'max-age=0',\n",
    "    'Upgrade-Insecure-Requests': '1',\n",
    "    'Accept': 'text/html,application/xhtml+xml,application/xml;q=0.9,image/webp,*/*;q=0.8',\n",
    "    'Accept-Encoding': 'gzip, deflate, sdch',\n",
    "    'Accept-Language': 'zh-CN,zh;q=0.8',\n",
    "}\n",
    "\n",
    "URL = \"http://quotes.toscrape.com/\""
   ]
  },
  {
   "cell_type": "code",
   "execution_count": 3,
   "metadata": {},
   "outputs": [],
   "source": [
    "html = requests.get(URL, headers=REQUEST_HEADER).text"
   ]
  },
  {
   "cell_type": "code",
   "execution_count": 4,
   "metadata": {},
   "outputs": [],
   "source": [
    "response = HtmlResponse(url=URL, body=html, encoding='utf-8')"
   ]
  },
  {
   "cell_type": "code",
   "execution_count": 5,
   "metadata": {},
   "outputs": [
    {
     "data": {
      "text/plain": [
       "[<Selector xpath='descendant-or-self::title' data='<title>Quotes to Scrape</title>'>]"
      ]
     },
     "execution_count": 5,
     "metadata": {},
     "output_type": "execute_result"
    }
   ],
   "source": [
    "response.css('title')"
   ]
  },
  {
   "cell_type": "code",
   "execution_count": 6,
   "metadata": {},
   "outputs": [
    {
     "data": {
      "text/plain": [
       "['<title>Quotes to Scrape</title>']"
      ]
     },
     "execution_count": 6,
     "metadata": {},
     "output_type": "execute_result"
    }
   ],
   "source": [
    "response.css('title').extract()"
   ]
  },
  {
   "cell_type": "code",
   "execution_count": 7,
   "metadata": {},
   "outputs": [
    {
     "data": {
      "text/plain": [
       "['Quotes to Scrape']"
      ]
     },
     "execution_count": 7,
     "metadata": {},
     "output_type": "execute_result"
    }
   ],
   "source": [
    "response.css('title::text').extract()"
   ]
  },
  {
   "cell_type": "code",
   "execution_count": 8,
   "metadata": {},
   "outputs": [
    {
     "data": {
      "text/plain": [
       "[<Selector xpath=\"descendant-or-self::*[@class and contains(concat(' ', normalize-space(@class), ' '), ' author ')]\" data='<small class=\"author\" itemprop=\"author\">'>,\n",
       " <Selector xpath=\"descendant-or-self::*[@class and contains(concat(' ', normalize-space(@class), ' '), ' author ')]\" data='<small class=\"author\" itemprop=\"author\">'>,\n",
       " <Selector xpath=\"descendant-or-self::*[@class and contains(concat(' ', normalize-space(@class), ' '), ' author ')]\" data='<small class=\"author\" itemprop=\"author\">'>,\n",
       " <Selector xpath=\"descendant-or-self::*[@class and contains(concat(' ', normalize-space(@class), ' '), ' author ')]\" data='<small class=\"author\" itemprop=\"author\">'>,\n",
       " <Selector xpath=\"descendant-or-self::*[@class and contains(concat(' ', normalize-space(@class), ' '), ' author ')]\" data='<small class=\"author\" itemprop=\"author\">'>,\n",
       " <Selector xpath=\"descendant-or-self::*[@class and contains(concat(' ', normalize-space(@class), ' '), ' author ')]\" data='<small class=\"author\" itemprop=\"author\">'>,\n",
       " <Selector xpath=\"descendant-or-self::*[@class and contains(concat(' ', normalize-space(@class), ' '), ' author ')]\" data='<small class=\"author\" itemprop=\"author\">'>,\n",
       " <Selector xpath=\"descendant-or-self::*[@class and contains(concat(' ', normalize-space(@class), ' '), ' author ')]\" data='<small class=\"author\" itemprop=\"author\">'>,\n",
       " <Selector xpath=\"descendant-or-self::*[@class and contains(concat(' ', normalize-space(@class), ' '), ' author ')]\" data='<small class=\"author\" itemprop=\"author\">'>,\n",
       " <Selector xpath=\"descendant-or-self::*[@class and contains(concat(' ', normalize-space(@class), ' '), ' author ')]\" data='<small class=\"author\" itemprop=\"author\">'>]"
      ]
     },
     "execution_count": 8,
     "metadata": {},
     "output_type": "execute_result"
    }
   ],
   "source": [
    "response.css('.author')"
   ]
  },
  {
   "cell_type": "code",
   "execution_count": 9,
   "metadata": {},
   "outputs": [
    {
     "data": {
      "text/plain": [
       "scrapy.selector.unified.SelectorList"
      ]
     },
     "execution_count": 9,
     "metadata": {},
     "output_type": "execute_result"
    }
   ],
   "source": [
    "type(response.css('.author'))"
   ]
  },
  {
   "cell_type": "code",
   "execution_count": 10,
   "metadata": {},
   "outputs": [
    {
     "data": {
      "text/plain": [
       "['<small class=\"author\" itemprop=\"author\">Albert Einstein</small>',\n",
       " '<small class=\"author\" itemprop=\"author\">J.K. Rowling</small>',\n",
       " '<small class=\"author\" itemprop=\"author\">Albert Einstein</small>',\n",
       " '<small class=\"author\" itemprop=\"author\">Jane Austen</small>',\n",
       " '<small class=\"author\" itemprop=\"author\">Marilyn Monroe</small>',\n",
       " '<small class=\"author\" itemprop=\"author\">Albert Einstein</small>',\n",
       " '<small class=\"author\" itemprop=\"author\">André Gide</small>',\n",
       " '<small class=\"author\" itemprop=\"author\">Thomas A. Edison</small>',\n",
       " '<small class=\"author\" itemprop=\"author\">Eleanor Roosevelt</small>',\n",
       " '<small class=\"author\" itemprop=\"author\">Steve Martin</small>']"
      ]
     },
     "execution_count": 10,
     "metadata": {},
     "output_type": "execute_result"
    }
   ],
   "source": [
    "response.css('.author').extract()"
   ]
  },
  {
   "cell_type": "code",
   "execution_count": 11,
   "metadata": {},
   "outputs": [
    {
     "data": {
      "text/plain": [
       "list"
      ]
     },
     "execution_count": 11,
     "metadata": {},
     "output_type": "execute_result"
    }
   ],
   "source": [
    "type(response.css('.author').extract())"
   ]
  },
  {
   "cell_type": "code",
   "execution_count": 12,
   "metadata": {},
   "outputs": [
    {
     "data": {
      "text/plain": [
       "'<small class=\"author\" itemprop=\"author\">Albert Einstein</small>'"
      ]
     },
     "execution_count": 12,
     "metadata": {},
     "output_type": "execute_result"
    }
   ],
   "source": [
    "response.css('.author').extract()[0]"
   ]
  },
  {
   "cell_type": "code",
   "execution_count": 13,
   "metadata": {},
   "outputs": [
    {
     "data": {
      "text/plain": [
       "'<small class=\"author\" itemprop=\"author\">Albert Einstein</small>'"
      ]
     },
     "execution_count": 13,
     "metadata": {},
     "output_type": "execute_result"
    }
   ],
   "source": [
    "response.css('.author').extract_first()"
   ]
  },
  {
   "cell_type": "code",
   "execution_count": 14,
   "metadata": {},
   "outputs": [
    {
     "data": {
      "text/plain": [
       "['Albert Einstein',\n",
       " 'J.K. Rowling',\n",
       " 'Albert Einstein',\n",
       " 'Jane Austen',\n",
       " 'Marilyn Monroe',\n",
       " 'Albert Einstein',\n",
       " 'André Gide',\n",
       " 'Thomas A. Edison',\n",
       " 'Eleanor Roosevelt',\n",
       " 'Steve Martin']"
      ]
     },
     "execution_count": 14,
     "metadata": {},
     "output_type": "execute_result"
    }
   ],
   "source": [
    "response.css('.author::text').extract()"
   ]
  },
  {
   "cell_type": "code",
   "execution_count": 15,
   "metadata": {},
   "outputs": [
    {
     "data": {
      "text/plain": [
       "['Albert Einstein',\n",
       " 'J.K. Rowling',\n",
       " 'Albert Einstein',\n",
       " 'Jane Austen',\n",
       " 'Marilyn Monroe',\n",
       " 'Albert Einstein',\n",
       " 'André Gide',\n",
       " 'Thomas A. Edison',\n",
       " 'Eleanor Roosevelt',\n",
       " 'Steve Martin']"
      ]
     },
     "execution_count": 15,
     "metadata": {},
     "output_type": "execute_result"
    }
   ],
   "source": [
    "response.css('small.author::text').extract()"
   ]
  },
  {
   "cell_type": "code",
   "execution_count": 16,
   "metadata": {},
   "outputs": [
    {
     "data": {
      "text/plain": [
       "['<span class=\"text\" itemprop=\"text\">“The world as we have created it is a process of our thinking. It cannot be changed without changing our thinking.”</span>',\n",
       " '<span class=\"text\" itemprop=\"text\">“It is our choices, Harry, that show what we truly are, far more than our abilities.”</span>',\n",
       " '<span class=\"text\" itemprop=\"text\">“There are only two ways to live your life. One is as though nothing is a miracle. The other is as though everything is a miracle.”</span>',\n",
       " '<span class=\"text\" itemprop=\"text\">“The person, be it gentleman or lady, who has not pleasure in a good novel, must be intolerably stupid.”</span>',\n",
       " '<span class=\"text\" itemprop=\"text\">“Imperfection is beauty, madness is genius and it\\'s better to be absolutely ridiculous than absolutely boring.”</span>',\n",
       " '<span class=\"text\" itemprop=\"text\">“Try not to become a man of success. Rather become a man of value.”</span>',\n",
       " '<span class=\"text\" itemprop=\"text\">“It is better to be hated for what you are than to be loved for what you are not.”</span>',\n",
       " '<span class=\"text\" itemprop=\"text\">“I have not failed. I\\'ve just found 10,000 ways that won\\'t work.”</span>',\n",
       " '<span class=\"text\" itemprop=\"text\">“A woman is like a tea bag; you never know how strong it is until it\\'s in hot water.”</span>',\n",
       " '<span class=\"text\" itemprop=\"text\">“A day without sunshine is like, you know, night.”</span>']"
      ]
     },
     "execution_count": 16,
     "metadata": {},
     "output_type": "execute_result"
    }
   ],
   "source": [
    "response.css('.quote > .text').extract()"
   ]
  },
  {
   "cell_type": "code",
   "execution_count": 17,
   "metadata": {},
   "outputs": [
    {
     "data": {
      "text/plain": [
       "['<span class=\"text\" itemprop=\"text\">“The world as we have created it is a process of our thinking. It cannot be changed without changing our thinking.”</span>']"
      ]
     },
     "execution_count": 17,
     "metadata": {},
     "output_type": "execute_result"
    }
   ],
   "source": [
    "# 浏览器F12: copy selecor\n",
    "response.css('body > div > div:nth-child(2) > div.col-md-8 > div:nth-child(1) > span.text').extract()"
   ]
  },
  {
   "cell_type": "code",
   "execution_count": 18,
   "metadata": {},
   "outputs": [
    {
     "data": {
      "text/plain": [
       "['/',\n",
       " '/login',\n",
       " '/author/Albert-Einstein',\n",
       " '/tag/change/page/1/',\n",
       " '/tag/deep-thoughts/page/1/',\n",
       " '/tag/thinking/page/1/',\n",
       " '/tag/world/page/1/',\n",
       " '/author/J-K-Rowling',\n",
       " '/tag/abilities/page/1/',\n",
       " '/tag/choices/page/1/',\n",
       " '/author/Albert-Einstein',\n",
       " '/tag/inspirational/page/1/',\n",
       " '/tag/life/page/1/',\n",
       " '/tag/live/page/1/',\n",
       " '/tag/miracle/page/1/',\n",
       " '/tag/miracles/page/1/',\n",
       " '/author/Jane-Austen',\n",
       " '/tag/aliteracy/page/1/',\n",
       " '/tag/books/page/1/',\n",
       " '/tag/classic/page/1/',\n",
       " '/tag/humor/page/1/',\n",
       " '/author/Marilyn-Monroe',\n",
       " '/tag/be-yourself/page/1/',\n",
       " '/tag/inspirational/page/1/',\n",
       " '/author/Albert-Einstein',\n",
       " '/tag/adulthood/page/1/',\n",
       " '/tag/success/page/1/',\n",
       " '/tag/value/page/1/',\n",
       " '/author/Andre-Gide',\n",
       " '/tag/life/page/1/',\n",
       " '/tag/love/page/1/',\n",
       " '/author/Thomas-A-Edison',\n",
       " '/tag/edison/page/1/',\n",
       " '/tag/failure/page/1/',\n",
       " '/tag/inspirational/page/1/',\n",
       " '/tag/paraphrased/page/1/',\n",
       " '/author/Eleanor-Roosevelt',\n",
       " '/tag/misattributed-eleanor-roosevelt/page/1/',\n",
       " '/author/Steve-Martin',\n",
       " '/tag/humor/page/1/',\n",
       " '/tag/obvious/page/1/',\n",
       " '/tag/simile/page/1/',\n",
       " '/page/2/',\n",
       " '/tag/love/',\n",
       " '/tag/inspirational/',\n",
       " '/tag/life/',\n",
       " '/tag/humor/',\n",
       " '/tag/books/',\n",
       " '/tag/reading/',\n",
       " '/tag/friendship/',\n",
       " '/tag/friends/',\n",
       " '/tag/truth/',\n",
       " '/tag/simile/',\n",
       " 'https://www.goodreads.com/quotes',\n",
       " 'https://scrapinghub.com']"
      ]
     },
     "execution_count": 18,
     "metadata": {},
     "output_type": "execute_result"
    }
   ],
   "source": [
    "response.css('a::attr(href)').extract()"
   ]
  },
  {
   "cell_type": "markdown",
   "metadata": {},
   "source": [
    "# 2 Selectors Using XPath"
   ]
  },
  {
   "cell_type": "code",
   "execution_count": 20,
   "metadata": {},
   "outputs": [
    {
     "data": {
      "text/plain": [
       "[<Selector xpath='/html/head/title' data='<title>Quotes to Scrape</title>'>]"
      ]
     },
     "execution_count": 20,
     "metadata": {},
     "output_type": "execute_result"
    }
   ],
   "source": [
    "response.xpath('/html/head/title')"
   ]
  },
  {
   "cell_type": "code",
   "execution_count": 21,
   "metadata": {},
   "outputs": [
    {
     "data": {
      "text/plain": [
       "['<title>Quotes to Scrape</title>']"
      ]
     },
     "execution_count": 21,
     "metadata": {},
     "output_type": "execute_result"
    }
   ],
   "source": [
    "response.xpath('/html/head/title').extract()"
   ]
  },
  {
   "cell_type": "code",
   "execution_count": 22,
   "metadata": {},
   "outputs": [
    {
     "data": {
      "text/plain": [
       "['<title>Quotes to Scrape</title>']"
      ]
     },
     "execution_count": 22,
     "metadata": {},
     "output_type": "execute_result"
    }
   ],
   "source": [
    "response.xpath('//title').extract()"
   ]
  },
  {
   "cell_type": "code",
   "execution_count": 23,
   "metadata": {},
   "outputs": [
    {
     "data": {
      "text/plain": [
       "['<small class=\"author\" itemprop=\"author\">Albert Einstein</small>']"
      ]
     },
     "execution_count": 23,
     "metadata": {},
     "output_type": "execute_result"
    }
   ],
   "source": [
    "# copy xpath\n",
    "response.xpath('/html/body/div/div[2]/div[1]/div[1]/span[2]/small').extract()"
   ]
  },
  {
   "cell_type": "code",
   "execution_count": 24,
   "metadata": {},
   "outputs": [
    {
     "data": {
      "text/plain": [
       "['<small class=\"author\" itemprop=\"author\">Albert Einstein</small>',\n",
       " '<small class=\"author\" itemprop=\"author\">J.K. Rowling</small>',\n",
       " '<small class=\"author\" itemprop=\"author\">Albert Einstein</small>',\n",
       " '<small class=\"author\" itemprop=\"author\">Jane Austen</small>',\n",
       " '<small class=\"author\" itemprop=\"author\">Marilyn Monroe</small>',\n",
       " '<small class=\"author\" itemprop=\"author\">Albert Einstein</small>',\n",
       " '<small class=\"author\" itemprop=\"author\">André Gide</small>',\n",
       " '<small class=\"author\" itemprop=\"author\">Thomas A. Edison</small>',\n",
       " '<small class=\"author\" itemprop=\"author\">Eleanor Roosevelt</small>',\n",
       " '<small class=\"author\" itemprop=\"author\">Steve Martin</small>']"
      ]
     },
     "execution_count": 24,
     "metadata": {},
     "output_type": "execute_result"
    }
   ],
   "source": [
    "response.xpath('/html/body/div/div/div/div/span/small').extract()"
   ]
  },
  {
   "cell_type": "code",
   "execution_count": 25,
   "metadata": {},
   "outputs": [
    {
     "data": {
      "text/plain": [
       "['Albert Einstein',\n",
       " 'J.K. Rowling',\n",
       " 'Albert Einstein',\n",
       " 'Jane Austen',\n",
       " 'Marilyn Monroe',\n",
       " 'Albert Einstein',\n",
       " 'André Gide',\n",
       " 'Thomas A. Edison',\n",
       " 'Eleanor Roosevelt',\n",
       " 'Steve Martin']"
      ]
     },
     "execution_count": 25,
     "metadata": {},
     "output_type": "execute_result"
    }
   ],
   "source": [
    "response.xpath('/html/body/div/div/div/div/span/small/text()').extract()"
   ]
  },
  {
   "cell_type": "code",
   "execution_count": 27,
   "metadata": {},
   "outputs": [
    {
     "data": {
      "text/plain": [
       "['<span class=\"text\" itemprop=\"text\">“The world as we have created it is a process of our thinking. It cannot be changed without changing our thinking.”</span>',\n",
       " '<span class=\"text\" itemprop=\"text\">“It is our choices, Harry, that show what we truly are, far more than our abilities.”</span>',\n",
       " '<span class=\"text\" itemprop=\"text\">“There are only two ways to live your life. One is as though nothing is a miracle. The other is as though everything is a miracle.”</span>',\n",
       " '<span class=\"text\" itemprop=\"text\">“The person, be it gentleman or lady, who has not pleasure in a good novel, must be intolerably stupid.”</span>',\n",
       " '<span class=\"text\" itemprop=\"text\">“Imperfection is beauty, madness is genius and it\\'s better to be absolutely ridiculous than absolutely boring.”</span>',\n",
       " '<span class=\"text\" itemprop=\"text\">“Try not to become a man of success. Rather become a man of value.”</span>',\n",
       " '<span class=\"text\" itemprop=\"text\">“It is better to be hated for what you are than to be loved for what you are not.”</span>',\n",
       " '<span class=\"text\" itemprop=\"text\">“I have not failed. I\\'ve just found 10,000 ways that won\\'t work.”</span>',\n",
       " '<span class=\"text\" itemprop=\"text\">“A woman is like a tea bag; you never know how strong it is until it\\'s in hot water.”</span>',\n",
       " '<span class=\"text\" itemprop=\"text\">“A day without sunshine is like, you know, night.”</span>']"
      ]
     },
     "execution_count": 27,
     "metadata": {},
     "output_type": "execute_result"
    }
   ],
   "source": [
    "response.xpath(\"//span[@class='text']\").extract()"
   ]
  },
  {
   "cell_type": "code",
   "execution_count": 28,
   "metadata": {},
   "outputs": [
    {
     "data": {
      "text/plain": [
       "['“The world as we have created it is a process of our thinking. It cannot be changed without changing our thinking.”',\n",
       " '“It is our choices, Harry, that show what we truly are, far more than our abilities.”',\n",
       " '“There are only two ways to live your life. One is as though nothing is a miracle. The other is as though everything is a miracle.”',\n",
       " '“The person, be it gentleman or lady, who has not pleasure in a good novel, must be intolerably stupid.”',\n",
       " \"“Imperfection is beauty, madness is genius and it's better to be absolutely ridiculous than absolutely boring.”\",\n",
       " '“Try not to become a man of success. Rather become a man of value.”',\n",
       " '“It is better to be hated for what you are than to be loved for what you are not.”',\n",
       " \"“I have not failed. I've just found 10,000 ways that won't work.”\",\n",
       " \"“A woman is like a tea bag; you never know how strong it is until it's in hot water.”\",\n",
       " '“A day without sunshine is like, you know, night.”']"
      ]
     },
     "execution_count": 28,
     "metadata": {},
     "output_type": "execute_result"
    }
   ],
   "source": [
    "response.xpath(\"//span[@class='text']/text()\").extract()"
   ]
  },
  {
   "cell_type": "markdown",
   "metadata": {},
   "source": [
    "# 3 Using Regular Expressions with Selectors"
   ]
  },
  {
   "cell_type": "code",
   "execution_count": 29,
   "metadata": {},
   "outputs": [],
   "source": [
    "URL = \"http://quotes.toscrape.com/page/2\"\n",
    "html = requests.get(URL, headers=REQUEST_HEADER).text\n",
    "response = HtmlResponse(url=URL, body=html, encoding='utf-8')"
   ]
  },
  {
   "cell_type": "code",
   "execution_count": 31,
   "metadata": {},
   "outputs": [
    {
     "data": {
      "text/plain": [
       "[\"“This life is what you make it. No matter what, you're going to mess up sometimes, it's a universal truth. But the good part is you get to decide how you're going to mess it up. Girls will be your friends - they'll act like it anyway. But just remember, some come, some go. The ones that stay with you through everything - they're your true best friends. Don't let go of them. Also remember, sisters make the best friends in the world. As for lovers, well, they'll come and go too. And baby, I hate to say it, most of them - actually pretty much all of them are going to break your heart, but you can't give up because if you give up, you'll never find your soulmate. You'll never find that half who makes you whole and that goes for everything. Just because you fail once, doesn't mean you're gonna fail at everything. Keep trying, hold on, and always, always, always believe in yourself, because if you don't, then who will, sweetie? So keep your head high, keep your chin up, and most importantly, keep smiling, because life's a beautiful thing and there's so much to smile about.”\",\n",
       " 'friends',\n",
       " '“It takes a great deal of bravery to stand up to our enemies, but just as much to stand up to our friends.”',\n",
       " 'friends',\n",
       " '“It is not a lack of love, but a lack of friendship that makes unhappy marriages.”',\n",
       " 'friendship',\n",
       " 'lack-of-friendship',\n",
       " '“Good friends, good books, and a sleepy conscience: this is the ideal life.”',\n",
       " 'friends',\n",
       " 'friendship',\n",
       " 'friendship',\n",
       " 'friends']"
      ]
     },
     "execution_count": 31,
     "metadata": {},
     "output_type": "execute_result"
    }
   ],
   "source": [
    "response.xpath(\"//*[contains(text(), 'friend')]/text()\").extract()"
   ]
  },
  {
   "cell_type": "code",
   "execution_count": 32,
   "metadata": {},
   "outputs": [
    {
     "data": {
      "text/plain": [
       "[\"“This life is what you make it. No matter what, you're going to mess up sometimes, it's a universal truth. But the good part is you get to decide how you're going to mess it up. Girls will be your friends - they'll act like it anyway. But just remember, some come, some go. The ones that stay with you through everything - they're your true best friends. Don't let go of them. Also remember, sisters make the best friends in the world. As for lovers, well, they'll come and go too. And baby, I hate to say it, most of them - actually pretty much all of them are going to break your heart, but you can't give up because if you give up, you'll never find your soulmate. You'll never find that half who makes you whole and that goes for everything. Just because you fail once, doesn't mean you're gonna fail at everything. Keep trying, hold on, and always, always, always believe in yourself, because if you don't, then who will, sweetie? So keep your head high, keep your chin up, and most importantly, keep smiling, because life's a beautiful thing and there's so much to smile about.”\",\n",
       " '“It takes a great deal of bravery to stand up to our enemies, but just as much to stand up to our friends.”',\n",
       " '“It is not a lack of love, but a lack of friendship that makes unhappy marriages.”',\n",
       " '“Good friends, good books, and a sleepy conscience: this is the ideal life.”']"
      ]
     },
     "execution_count": 32,
     "metadata": {},
     "output_type": "execute_result"
    }
   ],
   "source": [
    "response.css(\".text:contains('friend')::text\").extract()"
   ]
  },
  {
   "cell_type": "code",
   "execution_count": 33,
   "metadata": {},
   "outputs": [
    {
     "data": {
      "text/plain": [
       "['Albert Einstein', 'Allen Saunders']"
      ]
     },
     "execution_count": 33,
     "metadata": {},
     "output_type": "execute_result"
    }
   ],
   "source": [
    "response.css('.author::text').re('A[a-z]*\\s\\w+')"
   ]
  },
  {
   "cell_type": "code",
   "execution_count": 35,
   "metadata": {},
   "outputs": [
    {
     "data": {
      "text/plain": [
       "['Albert Einstein', 'Allen Saunders']"
      ]
     },
     "execution_count": 35,
     "metadata": {},
     "output_type": "execute_result"
    }
   ],
   "source": [
    "response.xpath(\"//*[@class='author'][starts-with(text(), 'A')]/text()\").extract()"
   ]
  },
  {
   "cell_type": "code",
   "execution_count": null,
   "metadata": {},
   "outputs": [],
   "source": []
  }
 ],
 "metadata": {
  "kernelspec": {
   "display_name": "Python 3",
   "language": "python",
   "name": "python3"
  },
  "language_info": {
   "codemirror_mode": {
    "name": "ipython",
    "version": 3
   },
   "file_extension": ".py",
   "mimetype": "text/x-python",
   "name": "python",
   "nbconvert_exporter": "python",
   "pygments_lexer": "ipython3",
   "version": "3.7.3"
  }
 },
 "nbformat": 4,
 "nbformat_minor": 2
}

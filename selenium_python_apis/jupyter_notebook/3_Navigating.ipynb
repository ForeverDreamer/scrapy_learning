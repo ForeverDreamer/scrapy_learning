{
 "cells": [
  {
   "cell_type": "markdown",
   "metadata": {},
   "source": [
    "# 3. Navigating"
   ]
  },
  {
   "cell_type": "code",
   "execution_count": 1,
   "metadata": {},
   "outputs": [],
   "source": [
    "from selenium import webdriver\n",
    "from selenium.webdriver.common.keys import Keys"
   ]
  },
  {
   "cell_type": "code",
   "execution_count": 2,
   "metadata": {},
   "outputs": [
    {
     "data": {
      "text/plain": [
       "<selenium.webdriver.chrome.webdriver.WebDriver (session=\"4caa1eb81e117e67db382c01c3ff8892\")>"
      ]
     },
     "execution_count": 2,
     "metadata": {},
     "output_type": "execute_result"
    }
   ],
   "source": [
    "driver = webdriver.Chrome()\n",
    "driver"
   ]
  },
  {
   "cell_type": "code",
   "execution_count": 3,
   "metadata": {},
   "outputs": [],
   "source": [
    "driver.get(\"https://www.baidu.com/\")"
   ]
  },
  {
   "cell_type": "markdown",
   "metadata": {},
   "source": [
    "# 3.1. Interacting with the page"
   ]
  },
  {
   "cell_type": "code",
   "execution_count": 4,
   "metadata": {},
   "outputs": [],
   "source": [
    "# 文档实例，但是实际上没有这个元素\n",
    "# <input type=\"text\" name=\"passwd\" id=\"passwd-id\" />\n",
    "\n",
    "# element = driver.find_element_by_id(\"passwd-id\")\n",
    "# element = driver.find_element_by_name(\"passwd\")\n",
    "# element = driver.find_element_by_xpath(\"//input[@id='passwd-id']\")"
   ]
  },
  {
   "cell_type": "code",
   "execution_count": 5,
   "metadata": {},
   "outputs": [
    {
     "data": {
      "text/plain": [
       "<selenium.webdriver.remote.webelement.WebElement (session=\"4caa1eb81e117e67db382c01c3ff8892\", element=\"0.41259557135319436-1\")>"
      ]
     },
     "execution_count": 5,
     "metadata": {},
     "output_type": "execute_result"
    }
   ],
   "source": [
    "# 查找并获取搜索输入框，浏览器检查元素\n",
    "element = driver.find_element_by_id(\"kw\")\n",
    "element"
   ]
  },
  {
   "cell_type": "code",
   "execution_count": 6,
   "metadata": {},
   "outputs": [],
   "source": [
    "element.clear()\n",
    "element.send_keys(\"some text\")"
   ]
  },
  {
   "cell_type": "code",
   "execution_count": 7,
   "metadata": {},
   "outputs": [],
   "source": [
    "element.clear()\n",
    "element.send_keys(\" and some\", Keys.ARROW_DOWN)"
   ]
  },
  {
   "cell_type": "markdown",
   "metadata": {},
   "source": [
    "# 3.2. Filling in forms"
   ]
  },
  {
   "cell_type": "code",
   "execution_count": 31,
   "metadata": {},
   "outputs": [],
   "source": [
    "driver.get(\"file:///D:/data_files/scrapy_learning/selenium_python_apis/jupyter_notebook/htmls/04-form.html\")"
   ]
  },
  {
   "cell_type": "code",
   "execution_count": 32,
   "metadata": {},
   "outputs": [
    {
     "data": {
      "text/plain": [
       "<selenium.webdriver.remote.webelement.WebElement (session=\"4caa1eb81e117e67db382c01c3ff8892\", element=\"0.7012753787645871-1\")>"
      ]
     },
     "execution_count": 32,
     "metadata": {},
     "output_type": "execute_result"
    }
   ],
   "source": [
    "# element = driver.find_element_by_xpath(\"//select[@name='name']\")\n",
    "element = driver.find_element_by_xpath(\"//select[1]\")\n",
    "element"
   ]
  },
  {
   "cell_type": "code",
   "execution_count": 33,
   "metadata": {},
   "outputs": [
    {
     "data": {
      "text/plain": [
       "[<selenium.webdriver.remote.webelement.WebElement (session=\"4caa1eb81e117e67db382c01c3ff8892\", element=\"0.7012753787645871-2\")>,\n",
       " <selenium.webdriver.remote.webelement.WebElement (session=\"4caa1eb81e117e67db382c01c3ff8892\", element=\"0.7012753787645871-3\")>,\n",
       " <selenium.webdriver.remote.webelement.WebElement (session=\"4caa1eb81e117e67db382c01c3ff8892\", element=\"0.7012753787645871-4\")>,\n",
       " <selenium.webdriver.remote.webelement.WebElement (session=\"4caa1eb81e117e67db382c01c3ff8892\", element=\"0.7012753787645871-5\")>]"
      ]
     },
     "execution_count": 33,
     "metadata": {},
     "output_type": "execute_result"
    }
   ],
   "source": [
    "all_options = element.find_elements_by_tag_name(\"option\")\n",
    "all_options"
   ]
  },
  {
   "cell_type": "code",
   "execution_count": 34,
   "metadata": {},
   "outputs": [
    {
     "name": "stdout",
     "output_type": "stream",
     "text": [
      "Value is: bj\n",
      "Value is: sh\n",
      "Value is: tj\n",
      "Value is: cq\n"
     ]
    }
   ],
   "source": [
    "import time\n",
    "\n",
    "for option in all_options:\n",
    "    print(\"Value is: %s\" % option.get_attribute(\"value\"))\n",
    "    time.sleep(1)\n",
    "    option.click()"
   ]
  },
  {
   "cell_type": "code",
   "execution_count": 37,
   "metadata": {},
   "outputs": [],
   "source": [
    "from selenium.webdriver.support.ui import Select\n",
    "\n",
    "select = Select(driver.find_element_by_xpath(\"//select[1]\"))\n",
    "time.sleep(1)\n",
    "select.select_by_index(1)\n",
    "time.sleep(1)\n",
    "select.select_by_visible_text(\"天津市\")\n",
    "time.sleep(1)\n",
    "select.select_by_value(\"cq\")\n",
    "time.sleep(1)\n",
    "# NotImplementedError: You may only deselect all options of a multi-select\n",
    "# select.deselect_all()  "
   ]
  },
  {
   "cell_type": "code",
   "execution_count": 41,
   "metadata": {},
   "outputs": [
    {
     "data": {
      "text/plain": [
       "[<selenium.webdriver.remote.webelement.WebElement (session=\"4caa1eb81e117e67db382c01c3ff8892\", element=\"0.2953094014717146-5\")>]"
      ]
     },
     "execution_count": 41,
     "metadata": {},
     "output_type": "execute_result"
    }
   ],
   "source": [
    "all_selected_options = select.all_selected_options\n",
    "all_selected_options"
   ]
  },
  {
   "cell_type": "code",
   "execution_count": 42,
   "metadata": {},
   "outputs": [
    {
     "name": "stdout",
     "output_type": "stream",
     "text": [
      "Value is: cq\n"
     ]
    }
   ],
   "source": [
    "print(\"Value is: %s\" % option.get_attribute(\"value\"))"
   ]
  },
  {
   "cell_type": "code",
   "execution_count": 48,
   "metadata": {},
   "outputs": [
    {
     "data": {
      "text/plain": [
       "[<selenium.webdriver.remote.webelement.WebElement (session=\"4caa1eb81e117e67db382c01c3ff8892\", element=\"0.2953094014717146-2\")>,\n",
       " <selenium.webdriver.remote.webelement.WebElement (session=\"4caa1eb81e117e67db382c01c3ff8892\", element=\"0.2953094014717146-3\")>,\n",
       " <selenium.webdriver.remote.webelement.WebElement (session=\"4caa1eb81e117e67db382c01c3ff8892\", element=\"0.2953094014717146-4\")>,\n",
       " <selenium.webdriver.remote.webelement.WebElement (session=\"4caa1eb81e117e67db382c01c3ff8892\", element=\"0.2953094014717146-5\")>]"
      ]
     },
     "execution_count": 48,
     "metadata": {},
     "output_type": "execute_result"
    }
   ],
   "source": [
    "options = select.options\n",
    "options"
   ]
  },
  {
   "cell_type": "code",
   "execution_count": null,
   "metadata": {},
   "outputs": [],
   "source": []
  }
 ],
 "metadata": {
  "kernelspec": {
   "display_name": "python_dev",
   "language": "python",
   "name": "python_dev"
  },
  "language_info": {
   "codemirror_mode": {
    "name": "ipython",
    "version": 3
   },
   "file_extension": ".py",
   "mimetype": "text/x-python",
   "name": "python",
   "nbconvert_exporter": "python",
   "pygments_lexer": "ipython3",
   "version": "3.6.8"
  }
 },
 "nbformat": 4,
 "nbformat_minor": 2
}
